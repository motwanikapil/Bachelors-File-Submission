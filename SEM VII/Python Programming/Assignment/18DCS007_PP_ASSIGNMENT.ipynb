{
  "nbformat": 4,
  "nbformat_minor": 0,
  "metadata": {
    "orig_nbformat": 4,
    "language_info": {
      "name": "python",
      "version": "3.8.5",
      "mimetype": "text/x-python",
      "codemirror_mode": {
        "name": "ipython",
        "version": 3
      },
      "pygments_lexer": "ipython3",
      "nbconvert_exporter": "python",
      "file_extension": ".py"
    },
    "kernelspec": {
      "name": "python3",
      "display_name": "Python 3.8.5 64-bit"
    },
    "interpreter": {
      "hash": "965ba1120b0c101b3f715b6e258a73742ec1cf86f2c8b04492724c87d9f112c3"
    },
    "colab": {
      "name": "18DCS007_PP_ASSIGNMENT.ipynb",
      "provenance": []
    }
  },
  "cells": [
    {
      "cell_type": "markdown",
      "metadata": {
        "id": "4Io9euWMoMy4"
      },
      "source": [
        "1. Write a program that reads an integer from the user. If the value entered by the user is less than 2 then your program should display an appropriate error message. Otherwise your program should display the prime numbers that can be multiplied together to compute n, with one factor appearing on each line."
      ]
    },
    {
      "cell_type": "code",
      "metadata": {
        "colab": {
          "base_uri": "https://localhost:8080/"
        },
        "id": "dVS9m5pln_G9",
        "outputId": "a4b4f3d4-bcc4-43d6-e76b-23775f85956b"
      },
      "source": [
        "def prime_factor(n):\n",
        "    for i in range(2, int(n)):\n",
        "        if n % i == 0:\n",
        "            print(i)\n",
        "            prime_factor(n / i)\n",
        "            break\n",
        "    else:\n",
        "        print(n)\n",
        "\n",
        "if __name__ == '__main__':\n",
        "    n = float(input(\"Enter a number: \"))\n",
        "    print(\"Prime factors of {} are:\".format(n))\n",
        "    if n < 2:\n",
        "        print(\"The number is not prime\")\n",
        "    else:\n",
        "        prime_factor(n)"
      ],
      "execution_count": null,
      "outputs": [
        {
          "output_type": "stream",
          "name": "stdout",
          "text": [
            "Enter a number: 21\n",
            "Prime factors of 21.0 are:\n",
            "3\n",
            "7.0\n"
          ]
        }
      ]
    },
    {
      "cell_type": "markdown",
      "metadata": {
        "id": "nKJOlEqDoddc"
      },
      "source": [
        "2. Write a function named reverseLookup that finds all of the keys in a dictionary that map to a specific value. The function will take the dictionary and the value to search for as its only parameters. It will return a (possibly empty) list of keys from the dictionary that map to the provided value. Include amain program that demonstrates the reverseLookup function as part of your solution to this exercise. Your program should create a dictionary and then show that the reverseLookup function works correctly when it returns multiple keys, a single key, and no keys. Ensure that your main program only runs when the file containing your solution to this exercise has not been imported into another program."
      ]
    },
    {
      "cell_type": "code",
      "metadata": {
        "colab": {
          "base_uri": "https://localhost:8080/"
        },
        "id": "rrEnHOkkn_HI",
        "outputId": "2047c31e-7e4b-4cd2-f3be-319eceb6f4b5"
      },
      "source": [
        "def reverse_lookup(dictionary, value):\n",
        "    result = []\n",
        "    for key in dictionary:\n",
        "        if dictionary[key] == value:\n",
        "            result.append(key)\n",
        "    return result\n",
        "\n",
        "if __name__ == '__main__':\n",
        "    d = {'a': 1, 'b': 2, 'c': 3}\n",
        "    print(reverse_lookup(d, 2))\n",
        "    print(reverse_lookup(d, 3))\n",
        "    print(reverse_lookup(d, 1))\n"
      ],
      "execution_count": null,
      "outputs": [
        {
          "output_type": "stream",
          "name": "stdout",
          "text": [
            "['b']\n",
            "['c']\n",
            "['a']\n"
          ]
        }
      ]
    },
    {
      "cell_type": "markdown",
      "metadata": {
        "id": "JllOvtCuomCo"
      },
      "source": [
        "3. Write a function that generates a random password. The password should have a random length of between 7 and 10 characters. Each character should be randomly selected from positions 33 to 126 in the ASCII table. Your function will not take any parameters. It will return the randomly generated password as its only result. Display the randomly generated password in your file’s main program. Your main program should only run when your solution has not been imported into another file.\n",
        "Hint: You will probably find the chr function helpful when completing this exercise. Detailed information about this function is available online."
      ]
    },
    {
      "cell_type": "code",
      "metadata": {
        "colab": {
          "base_uri": "https://localhost:8080/"
        },
        "id": "2P-EHQotn_HK",
        "outputId": "4ab95492-4a8a-4714-9d5f-0159d302bf38"
      },
      "source": [
        "def random_password():\n",
        "    import random\n",
        "    password = \"\"\n",
        "    for i in range(random.randint(7, 10)):\n",
        "        password += chr(random.randint(33, 126))\n",
        "    return password\n",
        "\n",
        "if __name__ == '__main__':\n",
        "    print(\"Random Password : \",random_password())\n",
        "    "
      ],
      "execution_count": null,
      "outputs": [
        {
          "output_type": "stream",
          "name": "stdout",
          "text": [
            "Random Password :  b(>guX^rx\n"
          ]
        }
      ]
    },
    {
      "cell_type": "markdown",
      "metadata": {
        "id": "goAmoRSYpUnl"
      },
      "source": [
        "4. A video club wants to reward its best members with a discount based on the member’s number of movie rentals and the number of new members referred by the member. The discount is in percent and is equal to the sum of the rentals and the referrals, but it cannot exceed 75 percent. Write a program to calculate the value of the discount.\n",
        "Here is a sample run:\n",
        "Enter the number of movie rentals: 56\n",
        "Enter the number of members referred to the video club: 3\n",
        "The discount is equal to: 59.00 percent."
      ]
    },
    {
      "cell_type": "code",
      "metadata": {
        "colab": {
          "base_uri": "https://localhost:8080/"
        },
        "id": "4h5wCF2Dn_HM",
        "outputId": "b2b2d2e2-cdcf-4b75-b237-627118d874eb"
      },
      "source": [
        "def discount(rentals, referrals):\n",
        "    if rentals + referrals > 75:\n",
        "        return 75\n",
        "    else:\n",
        "        return rentals + referrals\n",
        "\n",
        "if __name__ == '__main__':\n",
        "    rentals = int(input(\"Enter the number of movie rentals: \"))\n",
        "    referrals = int(input(\"Enter the number of members referred to the video club: \"))\n",
        "    print(\"Rentals : \",rentals)\n",
        "    print(\"Referrals : \",referrals)\n",
        "    print(\"The discount is equal to: {} percent.\".format(discount(rentals, referrals)))\n"
      ],
      "execution_count": null,
      "outputs": [
        {
          "output_type": "stream",
          "name": "stdout",
          "text": [
            "Enter the number of movie rentals: 71\n",
            "Enter the number of members referred to the video club: 21\n",
            "Rentals :  71\n",
            "Referrals :  21\n",
            "The discount is equal to: 75 percent.\n"
          ]
        }
      ]
    },
    {
      "cell_type": "markdown",
      "metadata": {
        "id": "QAjLmyJ3pdJG"
      },
      "source": [
        "5. Write an application to pre-sell a limited number of cinema tickets. Each buyer can buy as many as 4 tickets. No more than 100 tickets can be sold. Implement a program called TicketSeller that prompts the user for the desired number of tickets and then displays the number of remaining tickets. Repeat until all tickets have been sold, and then display the total number of buyers."
      ]
    },
    {
      "cell_type": "code",
      "metadata": {
        "id": "eJPEiylun_HO",
        "colab": {
          "base_uri": "https://localhost:8080/"
        },
        "outputId": "7e4d1b09-d263-4791-bb06-058c5f4d6e5d"
      },
      "source": [
        "def ticket_seller():\n",
        "    tickets = 50\n",
        "    buyers = 0\n",
        "    while tickets > 0:\n",
        "        user = int(input(\"Enter the number of tickets you want to buy: \"))\n",
        "        if user > 4:\n",
        "            print(\"You can buy maximum 4 tickets\")\n",
        "        else:\n",
        "            tickets -= user\n",
        "            buyers += 1\n",
        "        print(\"There are {} tickets remaining.\".format(tickets))\n",
        "    print(\"Total number of buyers: {}\".format(buyers))\n",
        "\n",
        "if __name__ == '__main__':\n",
        "    ticket_seller()"
      ],
      "execution_count": 10,
      "outputs": [
        {
          "output_type": "stream",
          "name": "stdout",
          "text": [
            "Enter the number of tickets you want to buy: 4\n",
            "There are 46 tickets remaining.\n",
            "Enter the number of tickets you want to buy: 3\n",
            "There are 43 tickets remaining.\n",
            "Enter the number of tickets you want to buy: 4\n",
            "There are 39 tickets remaining.\n",
            "Enter the number of tickets you want to buy: 2\n",
            "There are 37 tickets remaining.\n",
            "Enter the number of tickets you want to buy: 1\n",
            "There are 36 tickets remaining.\n",
            "Enter the number of tickets you want to buy: 3\n",
            "There are 33 tickets remaining.\n",
            "Enter the number of tickets you want to buy: 2\n",
            "There are 31 tickets remaining.\n",
            "Enter the number of tickets you want to buy: 4\n",
            "There are 27 tickets remaining.\n",
            "Enter the number of tickets you want to buy: 3\n",
            "There are 24 tickets remaining.\n",
            "Enter the number of tickets you want to buy: 2\n",
            "There are 22 tickets remaining.\n",
            "Enter the number of tickets you want to buy: 1\n",
            "There are 21 tickets remaining.\n",
            "Enter the number of tickets you want to buy: 3\n",
            "There are 18 tickets remaining.\n",
            "Enter the number of tickets you want to buy: 2\n",
            "There are 16 tickets remaining.\n",
            "Enter the number of tickets you want to buy: 1\n",
            "There are 15 tickets remaining.\n",
            "Enter the number of tickets you want to buy: 2\n",
            "There are 13 tickets remaining.\n",
            "Enter the number of tickets you want to buy: 3\n",
            "There are 10 tickets remaining.\n",
            "Enter the number of tickets you want to buy: 2\n",
            "There are 8 tickets remaining.\n",
            "Enter the number of tickets you want to buy: 4\n",
            "There are 4 tickets remaining.\n",
            "Enter the number of tickets you want to buy: 3\n",
            "There are 1 tickets remaining.\n",
            "Enter the number of tickets you want to buy: 1\n",
            "There are 0 tickets remaining.\n",
            "Total number of buyers: 20\n"
          ]
        }
      ]
    },
    {
      "cell_type": "code",
      "metadata": {
        "id": "Hfqrt7I-n_HQ"
      },
      "source": [
        ""
      ],
      "execution_count": null,
      "outputs": []
    }
  ]
}