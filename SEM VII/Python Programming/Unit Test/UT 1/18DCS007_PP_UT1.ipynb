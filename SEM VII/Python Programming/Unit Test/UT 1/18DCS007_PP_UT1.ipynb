{
  "nbformat": 4,
  "nbformat_minor": 0,
  "metadata": {
    "colab": {
      "name": "18DCS007_PP_UT1",
      "provenance": []
    },
    "kernelspec": {
      "name": "python3",
      "display_name": "Python 3"
    },
    "language_info": {
      "name": "python"
    }
  },
  "cells": [
    {
      "cell_type": "markdown",
      "metadata": {
        "id": "LBu2-8v2mXCM"
      },
      "source": [
        "18DCS007\n",
        "\n",
        "RUDRA BARAD\n",
        "\n",
        "PP - UNIT TEST 1\n",
        "\n",
        "26/08/2021"
      ]
    },
    {
      "cell_type": "markdown",
      "metadata": {
        "id": "9asGONYRmqeU"
      },
      "source": [
        "Q2."
      ]
    },
    {
      "cell_type": "code",
      "metadata": {
        "colab": {
          "base_uri": "https://localhost:8080/"
        },
        "id": "xYFVMUoBmuTJ",
        "outputId": "98a37f0a-3fa1-4996-a55a-12556ed39c82"
      },
      "source": [
        "def count(str):\n",
        "\ts = set(str)\n",
        "\treturn len(s)\n",
        "\n",
        "str1 = input(\"Enter a string:\")\n",
        "print(count(str1))\n",
        "\n",
        "str2 = input(\"Enter a string:\")\n",
        "print(count(str2))"
      ],
      "execution_count": 3,
      "outputs": [
        {
          "output_type": "stream",
          "text": [
            "Enter a string:Hello, World!\n",
            "10\n",
            "Enter a string:zzz\n",
            "1\n"
          ],
          "name": "stdout"
        }
      ]
    },
    {
      "cell_type": "markdown",
      "metadata": {
        "id": "oufgRQA0mr8D"
      },
      "source": [
        "Q3\n"
      ]
    },
    {
      "cell_type": "code",
      "metadata": {
        "colab": {
          "base_uri": "https://localhost:8080/"
        },
        "id": "yvlGmRiDoZ8k",
        "outputId": "3cb3a33b-8d3d-48ea-df9b-8540943ea818"
      },
      "source": [
        "from   random    import    randint\n",
        "MINI = 7\n",
        "MAXI = 10\n",
        "MIN_ASCII = 33\n",
        "MAX_ASCII = 126\n",
        "\n",
        "def   randomPassword():\n",
        "   randomLength = randint(MINI,MAXI)\n",
        "\n",
        "   result  = \"\"\n",
        "   for i in range (randomLength):\n",
        "      randomChar = chr (randint(MIN_ASCII, MAX_ASCII))\n",
        "      result = result + randomChar\n",
        "   return result\n",
        "\n",
        "print (\"Random Password:\", randomPassword())"
      ],
      "execution_count": 10,
      "outputs": [
        {
          "output_type": "stream",
          "text": [
            "Random Password: (D<]}N>Z7\n"
          ],
          "name": "stdout"
        }
      ]
    }
  ]
}