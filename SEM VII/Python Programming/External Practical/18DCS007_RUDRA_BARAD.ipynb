{
  "nbformat": 4,
  "nbformat_minor": 0,
  "metadata": {
    "colab": {
      "name": "18DCS007.ipynb",
      "provenance": []
    },
    "kernelspec": {
      "name": "python3",
      "display_name": "Python 3"
    },
    "language_info": {
      "name": "python"
    }
  },
  "cells": [
    {
      "cell_type": "markdown",
      "metadata": {
        "id": "LBu2-8v2mXCM"
      },
      "source": [
        "18DCS007\n",
        "\n",
        "RUDRA BARAD\n",
        "\n",
        "PP - EXTERNAL PRACTICAL\n",
        "\n",
        "12/11/2021"
      ]
    },
    {
      "cell_type": "markdown",
      "metadata": {
        "id": "9asGONYRmqeU"
      },
      "source": [
        "Q1. Consider an example of declaring the examination result. Design three classes:\n",
        "Student, Exam, and Result. The Student class has data members/methods such as roll\n",
        "number, name etc. Create the class Exam by inheriting Student class. The Exam class\n",
        "adds fields/methods representing the marks scored in six subjects. Derive the Result\n",
        "from the Exam class, and it has its own fields/methods such as total_marks, SGP (),\n",
        "Show (). Write a python program to model this relationship. (use super (), method\n",
        "overriding)"
      ]
    },
    {
      "cell_type": "code",
      "metadata": {
        "colab": {
          "base_uri": "https://localhost:8080/"
        },
        "id": "pW-2cpynNfaG",
        "outputId": "3c2df4ab-bd0c-4a56-8d5c-338c05855e8e"
      },
      "source": [
        "class Student:\n",
        "  def __init__(self, name, number):\n",
        "    self.name = name\n",
        "    self.number = number\n",
        "\n",
        "class Exam(Student):\n",
        "  def __init__(self, name, number, marks_list):\n",
        "    super().__init__(name, number)\n",
        "    self.marks_list = marks_list\n",
        "class Result(Exam):\n",
        "  def __init__(self, name, number, marks_list):\n",
        "    super().__init__(name, number, marks_list)\n",
        "    self.total_marks = 0\n",
        "    self.sgp = 0\n",
        "    \n",
        "  def calculate_total(self):\n",
        "    self.total_marks = sum(self.marks_list)\n",
        "\n",
        "  def calculate_sgp(self):\n",
        "    self.sgp = self.total_marks / 60\n",
        "\n",
        "  def show(self):\n",
        "    print(\"Name of the student : \",self.name)\n",
        "    print(\"Number of the student : \",self.number)\n",
        "    print(\"Marks of all subjects : \",self.marks_list)\n",
        "    print(\"Total marks : \",self.total_marks)\n",
        "    print(\"SGP : \",self.sgp)\n",
        "\n",
        "roll = input(\"Please enter your roll number: \")\n",
        "name = input(\"Please enter your name: \")\n",
        "marks = input(\"Please enter marks in 6 subjects (separated by space): \")\n",
        "marks = marks.split(\" \")\n",
        "marks = [int(m) for m in marks]\n",
        "\n",
        "if __name__ == \"__main__\":\n",
        "  r = Result(roll, name, marks)\n",
        "  r.calculate_total()\n",
        "  r.calculate_sgp()\n",
        "  r.show()"
      ],
      "execution_count": 20,
      "outputs": [
        {
          "output_type": "stream",
          "name": "stdout",
          "text": [
            "Please enter your roll number: 18DCS007\n",
            "Please enter your name: RUDRA BARAD\n",
            "Please enter marks in 6 subjects (separated by space): 7 3 5 4 6 2\n",
            "Name of the student :  18DCS007\n",
            "Number of the student :  RUDRA BARAD\n",
            "Marks of all subjects :  [7, 3, 5, 4, 6, 2]\n",
            "Total marks :  27\n",
            "SGP :  0.45\n"
          ]
        }
      ]
    },
    {
      "cell_type": "markdown",
      "metadata": {
        "id": "YzXzun1VNRob"
      },
      "source": [
        "Q2. In a Canadian postal code, the first, third and fifth characters are letters while the\n",
        "second, fourth and sixth characters are numbers. The province can be determined\n",
        "from the first character of a postal code, as shown in the following table. No valid\n",
        "postal codes currently begin with D, F, I, O, Q, U, W, or Z.\n",
        "\n",
        "The second character in a postal code identifies whether the address is rural or urban. If that\n",
        "character is a 0 then the address is rural. Otherwise it is urban. Create a program that reads\n",
        "a postal code from the user and displays the province associated with it, along with whether\n",
        "the address is urban or rural. For example, if the user enters T2N 1N4 then your program\n",
        "should indicate that the postal code is for an urban address in Alberta. If the user enters X0A\n",
        "1B2 then your program should indicate that the postal code is for a rural address in Nunavut\n",
        "or Northwest Territories. Use a dictionary to map from the first character of the postal code\n",
        "to the province name. Display a meaningful error message if the postal code begins with an\n",
        "invalid character."
      ]
    },
    {
      "cell_type": "code",
      "metadata": {
        "colab": {
          "base_uri": "https://localhost:8080/"
        },
        "id": "81XjgF29Ne2x",
        "outputId": "a6ebd8ab-f0ed-443e-87d6-24d987fd6163"
      },
      "source": [
        "s = input()\n",
        "c = s[0]\n",
        "l = s[1]\n",
        "city = \"Invalid postal code.\"\n",
        "address = \"urban\"\n",
        "code_map={'A':\"Newfoundland\",\"B\":\"Nova Scotia\",\"C\":\"Prince Edward Island\",\n",
        "\"E\":\"New Brunswick\",\"G\":\"Quebec\",\"H\":\"Quebec\",\"J\":\"Quebec\",\n",
        "\"K\":\"Ontario\",\"L\":\"Ontario\",\"M\":\"Ontario\",\"N\":\"Ontario\",\"P\":\"Ontario\",\n",
        "\"R\":\"Manitoba\",\"S\":\"Saskatchewan\",\"T\":\"Alberta\",\"V\":\"British Columbia\",\n",
        "\"X\":\"Nunavut,Northwest Territories\",\"Y\":\"Yukon\"}\n",
        "\n",
        "if c in code_map:\n",
        "  city = code_map[c]\n",
        "if l=='0':\n",
        "  address = \"rural\"\n",
        "print(city)\n",
        "print(l)\n",
        "print(address)"
      ],
      "execution_count": 16,
      "outputs": [
        {
          "output_type": "stream",
          "name": "stdout",
          "text": [
            "X0A 1B2\n",
            "Nunavut,Northwest Territories\n",
            "0\n",
            "rural\n"
          ]
        }
      ]
    }
  ]
}